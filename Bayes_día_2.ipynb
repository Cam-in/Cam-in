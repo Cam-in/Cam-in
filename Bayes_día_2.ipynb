{
  "nbformat": 4,
  "nbformat_minor": 0,
  "metadata": {
    "colab": {
      "provenance": [],
      "include_colab_link": true
    },
    "kernelspec": {
      "name": "python3",
      "display_name": "Python 3"
    },
    "language_info": {
      "name": "python"
    }
  },
  "cells": [
    {
      "cell_type": "markdown",
      "metadata": {
        "id": "view-in-github",
        "colab_type": "text"
      },
      "source": [
        "<a href=\"https://colab.research.google.com/github/Cam-in/Cam-in/blob/main/Bayes_d%C3%ADa_2.ipynb\" target=\"_parent\"><img src=\"https://colab.research.google.com/assets/colab-badge.svg\" alt=\"Open In Colab\"/></a>"
      ]
    },
    {
      "cell_type": "code",
      "source": [
        "!pip install pymc==5.16"
      ],
      "metadata": {
        "colab": {
          "base_uri": "https://localhost:8080/"
        },
        "id": "D_M_Vyn49OJO",
        "outputId": "6f77241e-fc86-465e-bf23-79bedc0411f3"
      },
      "execution_count": null,
      "outputs": [
        {
          "output_type": "stream",
          "name": "stdout",
          "text": [
            "Collecting pymc==5.16\n",
            "  Downloading pymc-5.16.0-py3-none-any.whl.metadata (15 kB)\n",
            "Requirement already satisfied: arviz>=0.13.0 in /usr/local/lib/python3.10/dist-packages (from pymc==5.16) (0.18.0)\n",
            "Requirement already satisfied: cachetools>=4.2.1 in /usr/local/lib/python3.10/dist-packages (from pymc==5.16) (5.4.0)\n",
            "Requirement already satisfied: cloudpickle in /usr/local/lib/python3.10/dist-packages (from pymc==5.16) (2.2.1)\n",
            "Requirement already satisfied: numpy>=1.15.0 in /usr/local/lib/python3.10/dist-packages (from pymc==5.16) (1.26.4)\n",
            "Requirement already satisfied: pandas>=0.24.0 in /usr/local/lib/python3.10/dist-packages (from pymc==5.16) (2.1.4)\n",
            "Collecting pytensor<2.24,>=2.23 (from pymc==5.16)\n",
            "  Downloading pytensor-2.23.0-cp310-cp310-manylinux_2_17_x86_64.manylinux2014_x86_64.whl.metadata (9.8 kB)\n",
            "Requirement already satisfied: rich>=13.7.1 in /usr/local/lib/python3.10/dist-packages (from pymc==5.16) (13.7.1)\n",
            "Requirement already satisfied: scipy>=1.4.1 in /usr/local/lib/python3.10/dist-packages (from pymc==5.16) (1.13.1)\n",
            "Requirement already satisfied: threadpoolctl<4.0.0,>=3.1.0 in /usr/local/lib/python3.10/dist-packages (from pymc==5.16) (3.5.0)\n",
            "Requirement already satisfied: typing-extensions>=3.7.4 in /usr/local/lib/python3.10/dist-packages (from pymc==5.16) (4.12.2)\n",
            "Requirement already satisfied: setuptools>=60.0.0 in /usr/local/lib/python3.10/dist-packages (from arviz>=0.13.0->pymc==5.16) (71.0.4)\n",
            "Requirement already satisfied: matplotlib>=3.5 in /usr/local/lib/python3.10/dist-packages (from arviz>=0.13.0->pymc==5.16) (3.7.1)\n",
            "Requirement already satisfied: packaging in /usr/local/lib/python3.10/dist-packages (from arviz>=0.13.0->pymc==5.16) (24.1)\n",
            "Requirement already satisfied: dm-tree>=0.1.8 in /usr/local/lib/python3.10/dist-packages (from arviz>=0.13.0->pymc==5.16) (0.1.8)\n",
            "Requirement already satisfied: xarray>=2022.6.0 in /usr/local/lib/python3.10/dist-packages (from arviz>=0.13.0->pymc==5.16) (2024.6.0)\n",
            "Requirement already satisfied: h5netcdf>=1.0.2 in /usr/local/lib/python3.10/dist-packages (from arviz>=0.13.0->pymc==5.16) (1.3.0)\n",
            "Requirement already satisfied: xarray-einstats>=0.3 in /usr/local/lib/python3.10/dist-packages (from arviz>=0.13.0->pymc==5.16) (0.7.0)\n",
            "Requirement already satisfied: python-dateutil>=2.8.2 in /usr/local/lib/python3.10/dist-packages (from pandas>=0.24.0->pymc==5.16) (2.8.2)\n",
            "Requirement already satisfied: pytz>=2020.1 in /usr/local/lib/python3.10/dist-packages (from pandas>=0.24.0->pymc==5.16) (2024.1)\n",
            "Requirement already satisfied: tzdata>=2022.1 in /usr/local/lib/python3.10/dist-packages (from pandas>=0.24.0->pymc==5.16) (2024.1)\n",
            "Requirement already satisfied: filelock in /usr/local/lib/python3.10/dist-packages (from pytensor<2.24,>=2.23->pymc==5.16) (3.15.4)\n",
            "Requirement already satisfied: etuples in /usr/local/lib/python3.10/dist-packages (from pytensor<2.24,>=2.23->pymc==5.16) (0.3.9)\n",
            "Requirement already satisfied: logical-unification in /usr/local/lib/python3.10/dist-packages (from pytensor<2.24,>=2.23->pymc==5.16) (0.4.6)\n",
            "Requirement already satisfied: miniKanren in /usr/local/lib/python3.10/dist-packages (from pytensor<2.24,>=2.23->pymc==5.16) (1.0.3)\n",
            "Requirement already satisfied: cons in /usr/local/lib/python3.10/dist-packages (from pytensor<2.24,>=2.23->pymc==5.16) (0.4.6)\n",
            "Requirement already satisfied: markdown-it-py>=2.2.0 in /usr/local/lib/python3.10/dist-packages (from rich>=13.7.1->pymc==5.16) (3.0.0)\n",
            "Requirement already satisfied: pygments<3.0.0,>=2.13.0 in /usr/local/lib/python3.10/dist-packages (from rich>=13.7.1->pymc==5.16) (2.16.1)\n",
            "Requirement already satisfied: h5py in /usr/local/lib/python3.10/dist-packages (from h5netcdf>=1.0.2->arviz>=0.13.0->pymc==5.16) (3.11.0)\n",
            "Requirement already satisfied: mdurl~=0.1 in /usr/local/lib/python3.10/dist-packages (from markdown-it-py>=2.2.0->rich>=13.7.1->pymc==5.16) (0.1.2)\n",
            "Requirement already satisfied: contourpy>=1.0.1 in /usr/local/lib/python3.10/dist-packages (from matplotlib>=3.5->arviz>=0.13.0->pymc==5.16) (1.2.1)\n",
            "Requirement already satisfied: cycler>=0.10 in /usr/local/lib/python3.10/dist-packages (from matplotlib>=3.5->arviz>=0.13.0->pymc==5.16) (0.12.1)\n",
            "Requirement already satisfied: fonttools>=4.22.0 in /usr/local/lib/python3.10/dist-packages (from matplotlib>=3.5->arviz>=0.13.0->pymc==5.16) (4.53.1)\n",
            "Requirement already satisfied: kiwisolver>=1.0.1 in /usr/local/lib/python3.10/dist-packages (from matplotlib>=3.5->arviz>=0.13.0->pymc==5.16) (1.4.5)\n",
            "Requirement already satisfied: pillow>=6.2.0 in /usr/local/lib/python3.10/dist-packages (from matplotlib>=3.5->arviz>=0.13.0->pymc==5.16) (9.4.0)\n",
            "Requirement already satisfied: pyparsing>=2.3.1 in /usr/local/lib/python3.10/dist-packages (from matplotlib>=3.5->arviz>=0.13.0->pymc==5.16) (3.1.2)\n",
            "Requirement already satisfied: six>=1.5 in /usr/local/lib/python3.10/dist-packages (from python-dateutil>=2.8.2->pandas>=0.24.0->pymc==5.16) (1.16.0)\n",
            "Requirement already satisfied: toolz in /usr/local/lib/python3.10/dist-packages (from logical-unification->pytensor<2.24,>=2.23->pymc==5.16) (0.12.1)\n",
            "Requirement already satisfied: multipledispatch in /usr/local/lib/python3.10/dist-packages (from logical-unification->pytensor<2.24,>=2.23->pymc==5.16) (1.0.0)\n",
            "Downloading pymc-5.16.0-py3-none-any.whl (489 kB)\n",
            "\u001b[2K   \u001b[90m━━━━━━━━━━━━━━━━━━━━━━━━━━━━━━━━━━━━━━━━\u001b[0m \u001b[32m489.1/489.1 kB\u001b[0m \u001b[31m3.4 MB/s\u001b[0m eta \u001b[36m0:00:00\u001b[0m\n",
            "\u001b[?25hDownloading pytensor-2.23.0-cp310-cp310-manylinux_2_17_x86_64.manylinux2014_x86_64.whl (1.8 MB)\n",
            "\u001b[2K   \u001b[90m━━━━━━━━━━━━━━━━━━━━━━━━━━━━━━━━━━━━━━━━\u001b[0m \u001b[32m1.8/1.8 MB\u001b[0m \u001b[31m19.2 MB/s\u001b[0m eta \u001b[36m0:00:00\u001b[0m\n",
            "\u001b[?25hInstalling collected packages: pytensor, pymc\n",
            "  Attempting uninstall: pytensor\n",
            "    Found existing installation: pytensor 2.18.6\n",
            "    Uninstalling pytensor-2.18.6:\n",
            "      Successfully uninstalled pytensor-2.18.6\n",
            "  Attempting uninstall: pymc\n",
            "    Found existing installation: pymc 5.10.4\n",
            "    Uninstalling pymc-5.10.4:\n",
            "      Successfully uninstalled pymc-5.10.4\n",
            "Successfully installed pymc-5.16.0 pytensor-2.23.0\n"
          ]
        }
      ]
    },
    {
      "cell_type": "code",
      "execution_count": null,
      "metadata": {
        "id": "RLBE9zW49DV2"
      },
      "outputs": [],
      "source": [
        "import arviz as az\n",
        "import matplotlib.pyplot as plt\n",
        "import numpy as np\n",
        "import pymc as pm"
      ]
    },
    {
      "cell_type": "markdown",
      "source": [
        "# Problema 1\n",
        "\n",
        "Mookie Betts es un bateador que juega para Los Angeles Dodgers en la Major League Baseball (MLB) de los Estados Unidos.\n",
        "\n",
        "Este jugador se ha convertido en unas de las estrellas indiscutidas de la competencia al conseguir 45 _hits_ en sus primeros 115 turnos al bate en lo que va de la temporada regular del año 2024.\n",
        "\n",
        "Según los registros históricos, los bateadores de la MLB consiguen un _hit_ entre el 20% y 40% de las ocasiones que van al bate.\n",
        "\n",
        "A partir de los datos, ¿qué se puede concluir sobre la probabilidad de que Betts obtenga un  _hit_ al batear?\n",
        "\n",
        "Dado nuestro conocimiento previo y el desempeño de Betts en sus primeros 115 turnos al bate, ¿cuál es la probabilidad de que este jugador obtenga _hits_ en al menos el 40% de los casos al acumular 500 turnos al bate en la temporada?"
      ],
      "metadata": {
        "id": "6p8l0h7R9kQW"
      }
    },
    {
      "cell_type": "code",
      "source": [
        "N = 115\n",
        "y = 45"
      ],
      "metadata": {
        "id": "oC1ty1LFAz6E"
      },
      "execution_count": null,
      "outputs": []
    },
    {
      "cell_type": "code",
      "source": [
        "with pm.Model() as model:\n",
        "    pm.Binomial(\"y\", p = 0.5, n = N)"
      ],
      "metadata": {
        "id": "_zmsHiesBy9a"
      },
      "execution_count": null,
      "outputs": []
    },
    {
      "cell_type": "code",
      "source": [
        "model.to_graphviz()"
      ],
      "metadata": {
        "id": "MdIhhKZYCHsN"
      },
      "execution_count": null,
      "outputs": []
    },
    {
      "cell_type": "markdown",
      "source": [
        "# Problema 2\n",
        "\n",
        "El conjunto de datos de las alturas (`heights`) contiene las alturas (en pulgadas) de 5524 pares de madres e hijas registradas en un estudio realizado por Karl Pearson y  Alice Lee en 1903.\n",
        "\n",
        "Obtenga la distribución _a posteriori_ del peso medio de una hija cuya madre mide 58 pulgadas.\n",
        "\n",
        "¿Cuál es la probabilidad de que una hija mida más de 65 pulgadas cuando su madre mide 60 pulgadas?"
      ],
      "metadata": {
        "id": "4Rka-K2w-6YN"
      }
    },
    {
      "cell_type": "code",
      "source": [
        "# https://raw.githubusercontent.com/estadisticaunr/estadistica-bayesiana/main/datos/heights.txt"
      ],
      "metadata": {
        "id": "A7iofoQOBWk5"
      },
      "execution_count": null,
      "outputs": []
    },
    {
      "cell_type": "markdown",
      "source": [],
      "metadata": {
        "id": "ZF212DCSBVoz"
      }
    },
    {
      "cell_type": "markdown",
      "source": [
        "# Problema 3\n",
        "\n",
        "El conjunto de datos `weather_WU` datos climáticos correspondientes a 100 días en dos ciudades de Australia: Uluru y Wollongong. Se intentará predecir la temperatura a las 3 de la tarde, utilizando otras variables.\n",
        "\n",
        "Considere los siguientes tres modelos:\n",
        "\n",
        "* $m_1$: `temp3pm ~ temp9am`;\n",
        "* $m_2$: `temp3pm ~ location`;\n",
        "* $m_3$: `temp3pm ~ temp9am + location`;\n",
        "\n",
        "1. Ajuste cada uno de los modelos y construya gráficas para mostrar los parámetros obtenidos.\n",
        "2. Realice pruebas predictivas _a posteriori_ para comparar los modelos.\n",
        "3. Compare los _ELPD_ de cada modelo utilizando _LOO_."
      ],
      "metadata": {
        "id": "bhAYJ69cAl7Z"
      }
    },
    {
      "cell_type": "code",
      "source": [
        "# https://raw.githubusercontent.com/estadisticaunr/estadistica-bayesiana/main/datos/weather_WU.csv"
      ],
      "metadata": {
        "id": "CmR4_quD-5gG"
      },
      "execution_count": null,
      "outputs": []
    },
    {
      "cell_type": "code",
      "source": [],
      "metadata": {
        "id": "lxSBRoYOAhjk"
      },
      "execution_count": null,
      "outputs": []
    }
  ]
}